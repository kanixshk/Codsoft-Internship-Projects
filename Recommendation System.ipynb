{
 "cells": [
  {
   "cell_type": "code",
   "execution_count": null,
   "id": "85cb7a92",
   "metadata": {},
   "outputs": [],
   "source": [
    "import pandas as pd\n",
    "from sklearn.feature_extraction.text import TfidfVectorizer\n",
    "from sklearn.metrics.pairwise import linear_kernel"
   ]
  },
  {
   "cell_type": "code",
   "execution_count": null,
   "id": "90bb88a2",
   "metadata": {},
   "outputs": [],
   "source": [
    "#sample data set\n",
    "data = {'item_id': [1, 2, 3, 4, 5],\n",
    "        'description': ['Action packed movie with explosions and car chases',\n",
    "                        'Romantic comedy with a happy ending and funny scenes',\n",
    "                        'Thriller with suspense and plot twists',\n",
    "                        'Science fiction film about space travel and aliens',\n",
    "                        'Drama with emotional scenes and character development']}\n",
    "df = pd.DataFrame(data)"
   ]
  },
  {
   "cell_type": "code",
   "execution_count": null,
   "id": "cb30ceaf",
   "metadata": {},
   "outputs": [],
   "source": [
    "tfidf = TfidfVectorizer(stop_words='english')\n",
    "\n",
    "tfidf_matrix = tfidf.fit_transform(items_df['description'])\n",
    "\n",
    "cosine_sim = linear_kernel(tfidf_matrix, tfidf_matrix)"
   ]
  },
  {
   "cell_type": "code",
   "execution_count": null,
   "id": "1740dbe6",
   "metadata": {},
   "outputs": [],
   "source": [
    "def get_recommendations(item_id, cosine_sim=cosine_sim):\n",
    "    idx = items_df[items_df['item_id'] == item_id].index[0]\n",
    "    sim_scores = list(enumerate(cosine_sim[idx]))\n",
    "    sim_scores = sorted(sim_scores, key=lambda x: x[1], reverse=True)\n",
    "    sim_scores = sim_scores[1:6]\n",
    "    item_indices = [i[0] for i in sim_scores]\n",
    "    return items_df['item_id'].iloc[item_indices].tolist()"
   ]
  },
  {
   "cell_type": "code",
   "execution_count": null,
   "id": "da1b0734",
   "metadata": {},
   "outputs": [],
   "source": [
    "# Get recommendations for item with id 1\n",
    "recommended_items = get_recommendations(2)\n",
    "print(f\"Recommendations for item 1: {recommended_items}\")"
   ]
  }
 ],
 "metadata": {
  "language_info": {
   "name": "python"
  }
 },
 "nbformat": 4,
 "nbformat_minor": 5
}
